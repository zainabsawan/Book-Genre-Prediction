{
 "cells": [
  {
   "cell_type": "code",
   "execution_count": 1,
   "id": "278c9f3b-8d64-417a-b006-2ef4d9db28fe",
   "metadata": {},
   "outputs": [],
   "source": [
    "import pandas as pd"
   ]
  },
  {
   "cell_type": "code",
   "execution_count": 2,
   "id": "19bd7710-20c7-49a3-a52c-51e818357b72",
   "metadata": {},
   "outputs": [],
   "source": [
    "# Loading csv\n",
    "df = pd.read_csv(\"../data/GoodReads_100k_books.csv\")"
   ]
  },
  {
   "cell_type": "code",
   "execution_count": 3,
   "id": "35af6d0e-2d9e-4897-b833-17d646d8d867",
   "metadata": {},
   "outputs": [],
   "source": [
    "# Dropping unwanted columns\n",
    "columns_to_keep = [\"genre\",\"img\",\"title\"]\n",
    "df = df[columns_to_keep]"
   ]
  },
  {
   "cell_type": "code",
   "execution_count": 4,
   "id": "0cc14fb5-89d6-4e09-9825-0fe2c03fe3b1",
   "metadata": {},
   "outputs": [],
   "source": [
    "# Dropping null fields\n",
    "df = df.dropna()"
   ]
  },
  {
   "cell_type": "code",
   "execution_count": 5,
   "id": "94ab7a0a-9d38-4906-9987-dbfdbd4c3fec",
   "metadata": {},
   "outputs": [],
   "source": [
    "# Removing leading/trailing white space\n",
    "df[\"title\"] = df[\"title\"].str.strip()"
   ]
  },
  {
   "cell_type": "raw",
   "id": "92e6fe87-9abb-4861-81c5-9071512858be",
   "metadata": {},
   "source": [
    "# Create new folder for downloaded images from links\n",
    "os.makedirs(\"/Book Genres/data/book_covers\", exist_ok=True)"
   ]
  },
  {
   "cell_type": "raw",
   "id": "2a10a55a-35d7-4952-90ed-e2737b73b900",
   "metadata": {},
   "source": [
    "# Download images\n",
    "for index, row in df.iterrows:\n",
    "    url = row[\"img\"]\n",
    "    try:\n",
    "        response = requests.get(url, timeout=10)\n",
    "        if response.status_code==200:\n",
    "            with open(f\"book_covers/{row['title']}.jpeg\",\"wb\") as f:\n",
    "                f.write(response.content)\n",
    "    except Exception as e:\n",
    "        print(f\"Couldn't download cover image from {url} cuz \", e)"
   ]
  },
  {
   "cell_type": "code",
   "execution_count": 7,
   "id": "043dc735-d5df-449e-8fe8-adaccf652627",
   "metadata": {},
   "outputs": [],
   "source": [
    "# Saving to new csv\n",
    "df.to_csv(\"../data/GoodReads_books_cleaned.csv\", index=False)   # Don't create extra col for df index in the csv"
   ]
  },
  {
   "cell_type": "code",
   "execution_count": 11,
   "id": "f262d4ec-2977-46b1-8e81-f338b75213ec",
   "metadata": {},
   "outputs": [
    {
     "name": "stdout",
     "output_type": "stream",
     "text": [
      "9.246622654542572\n"
     ]
    }
   ],
   "source": [
    "# Calculating average number of genre's per book, just to see lol\n",
    "genre_count =[]\n",
    "for sublist in df[\"genre\"]:\n",
    "    sb = sublist.split(\",\")\n",
    "    genre_count.append(len(sb))\n",
    "avg = pd.Series(genre_count).mean()\n",
    "print(avg)"
   ]
  },
  {
   "cell_type": "code",
   "execution_count": null,
   "id": "6b8d73ce-a373-418d-ac75-702674d514ee",
   "metadata": {},
   "outputs": [],
   "source": []
  }
 ],
 "metadata": {
  "kernelspec": {
   "display_name": "Python 3 (ipykernel)",
   "language": "python",
   "name": "python3"
  },
  "language_info": {
   "codemirror_mode": {
    "name": "ipython",
    "version": 3
   },
   "file_extension": ".py",
   "mimetype": "text/x-python",
   "name": "python",
   "nbconvert_exporter": "python",
   "pygments_lexer": "ipython3",
   "version": "3.12.2"
  }
 },
 "nbformat": 4,
 "nbformat_minor": 5
}
